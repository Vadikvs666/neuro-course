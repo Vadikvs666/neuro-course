{
 "cells": [
  {
   "cell_type": "code",
   "execution_count": null,
   "metadata": {},
   "outputs": [],
   "source": []
  },
  {
   "cell_type": "markdown",
   "metadata": {},
   "source": [
    "Начнём с точки минимума параболы. Вот вам функция \n",
    "$$\n",
    "f(x)=3x^2−12x+4\n",
    "$$ \n",
    "Найдем произвдную функции\n",
    "$$\n",
    "f(x)=3x^2−12x+4\\\\\n",
    "\n",
    "f'(x) = 6x-12\\\\\n",
    "\n",
    "6x-12 = 0\\\\\n",
    "\n",
    "x=2\n",
    "\n",
    "$$\n"
   ]
  }
 ],
 "metadata": {
  "language_info": {
   "name": "python"
  }
 },
 "nbformat": 4,
 "nbformat_minor": 2
}
